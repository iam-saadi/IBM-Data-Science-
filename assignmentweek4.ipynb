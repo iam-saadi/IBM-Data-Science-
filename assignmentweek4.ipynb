{
  "metadata": {
    "language_info": {
      "codemirror_mode": {
        "name": "python",
        "version": 3
      },
      "file_extension": ".py",
      "mimetype": "text/x-python",
      "name": "python",
      "nbconvert_exporter": "python",
      "pygments_lexer": "ipython3",
      "version": "3.8"
    },
    "kernelspec": {
      "name": "python",
      "display_name": "Pyolite",
      "language": "python"
    }
  },
  "nbformat_minor": 4,
  "nbformat": 4,
  "cells": [
    {
      "cell_type": "markdown",
      "source": "<h1>My Jupiter Notebook on IBM Watson Studio</h1\n\n",
      "metadata": {}
    },
    {
      "cell_type": "markdown",
      "source": "<b>Muhammad Saad Siddique</b>\nData Scientist",
      "metadata": {}
    },
    {
      "cell_type": "markdown",
      "source": "<i>I am interested in Data Science because I am good in mathematics and statistics. Moreover, I also love coding and have a proficiency in python.</i>",
      "metadata": {}
    },
    {
      "cell_type": "markdown",
      "source": "<h3> In Cell 5 i will initialize two variables and them print out their sum.  </h3>",
      "metadata": {}
    },
    {
      "cell_type": "code",
      "source": "variable_one = 12\nvariable_tow = 14\nsum_of_variables = variable_one + variable_two \nprint(sum_of_variables)\n",
      "metadata": {
        "trusted": true
      },
      "execution_count": null,
      "outputs": []
    },
    {
      "cell_type": "markdown",
      "source": "<table>\n    <th> Tools and Languages of Data Science </th>\n    <tr>   \n        <td>\n<ul>  \n    <li> jupiter notebook</li>\n    <li> Open scale </li>\n    <li> Watson Studio </li>\n    <li> Skills Network </li>\n</ul>\n            </td>\n    </tr>\n    \n<tr>  \n    <td>\n<ol>\n    <li> Python </li> \n    <li> Scala </li>\n    <li> R </li>\n    <li> JavaScript </li>\n</ol>\n    </td>\n    </tr> \n    </table>\n\n   \n   \n   ",
      "metadata": {
        "tags": []
      }
    }
  ]
}